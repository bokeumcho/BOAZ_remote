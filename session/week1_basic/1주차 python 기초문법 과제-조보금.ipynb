{
 "cells": [
  {
   "cell_type": "markdown",
   "metadata": {},
   "source": [
    "# Python 기초문법 과제\n",
    "Python을 사용할 때 사용되는 if문, for문, 문자열 사용, 파일 Read 위주로 문제를 출제했습니다. 데이터를 분석할 때, 위의 내용들은 자주 나오는 내용이니 잘 공부해놓으면 좋을 것 같습니다."
   ]
  },
  {
   "cell_type": "markdown",
   "metadata": {},
   "source": [
    "#### 1. 주어진 수가 짝수인지 홀수인지 판별하는 프로그램을 작성하시오. (hint : if문)"
   ]
  },
  {
   "cell_type": "code",
   "execution_count": 1,
   "metadata": {},
   "outputs": [
    {
     "name": "stdout",
     "output_type": "stream",
     "text": [
      "숫자를 입력하세요 : 3\n"
     ]
    }
   ],
   "source": [
    "# num 변수에 숫자 입력\n",
    "num = int(input(\"숫자를 입력하세요 : \"))"
   ]
  },
  {
   "cell_type": "code",
   "execution_count": 2,
   "metadata": {},
   "outputs": [
    {
     "name": "stdout",
     "output_type": "stream",
     "text": [
      "odd\n"
     ]
    }
   ],
   "source": [
    "##### Your Code here #####\n",
    "if num%2==0:\n",
    "    print(\"even\")\n",
    "else:\n",
    "    print(\"odd\")\n"
   ]
  },
  {
   "cell_type": "markdown",
   "metadata": {},
   "source": [
    "#### 2. 다음은 학생들의 혈액형(A, B, AB, O)에 대한 데이터이다.\n",
    "#### ['A', 'B', 'A', 'O', 'AB', 'AB', 'O', 'A', 'B', 'O', 'B', 'AB']\n",
    "#### 반복문을 이용하여 각 혈액형 별 학생수의 합계를 구하시오."
   ]
  },
  {
   "cell_type": "code",
   "execution_count": 10,
   "metadata": {},
   "outputs": [],
   "source": [
    "# blood 배열 선언\n",
    "blood = ['A', 'B', 'A', 'O', 'AB', 'AB', 'O', 'A', 'B', 'O', 'B', 'AB']"
   ]
  },
  {
   "cell_type": "code",
   "execution_count": 16,
   "metadata": {},
   "outputs": [
    {
     "name": "stdout",
     "output_type": "stream",
     "text": [
      "12\n"
     ]
    }
   ],
   "source": [
    "##### Your Code here #####\n",
    "\n",
    "a=b=ab=o=0\n",
    "\n",
    "for i in blood:\n",
    "    if i=='A':\n",
    "        a=a+1\n",
    "    elif i=='B':\n",
    "        b=b+1\n",
    "    elif i=='AB':\n",
    "        ab=ab+1\n",
    "    elif i=='O':\n",
    "        o=o+1\n",
    "blood_sum=a+b+ab+o\n",
    "print(blood_sum)"
   ]
  },
  {
   "cell_type": "markdown",
   "metadata": {},
   "source": [
    "#### 3. 다음 문장에서 모음('aeiou')를 제거하시오. (대문자/소문자 모두 제거)\n",
    "#### BOAZ is Big data is Our A to Z."
   ]
  },
  {
   "cell_type": "code",
   "execution_count": 64,
   "metadata": {},
   "outputs": [],
   "source": [
    "# 문장 선언\n",
    "sentence = \"BOAZ is Big data is Our A to Z.\""
   ]
  },
  {
   "cell_type": "code",
   "execution_count": 65,
   "metadata": {},
   "outputs": [
    {
     "name": "stdout",
     "output_type": "stream",
     "text": [
      "BZsBgdtsrtZ.\n"
     ]
    }
   ],
   "source": [
    "#대소문자 살린 코드\n",
    "sentence=list(sentence)\n",
    "new_sentence=''\n",
    "for i in range(0,len(sentence)):\n",
    "        if sentence[i] not in ('a','e','i','o','u','A','E','I','O','U',' '):\n",
    "            new_sentence=new_sentence+sentence[i]\n",
    "print(new_sentence)"
   ]
  },
  {
   "cell_type": "code",
   "execution_count": 62,
   "metadata": {},
   "outputs": [
    {
     "name": "stdout",
     "output_type": "stream",
     "text": [
      "bzsbgdtsrtz.\n"
     ]
    }
   ],
   "source": [
    "##### Your Code here #####\n",
    "sentence=sentence.lower()\n",
    "sentence=list(sentence)\n",
    "new_sentence=''\n",
    "for i in range(0,len(sentence)):\n",
    "        if sentence[i] not in ('a','e','i','o','u',' '):\n",
    "            new_sentence=new_sentence+sentence[i]\n",
    "print(new_sentence)"
   ]
  },
  {
   "cell_type": "markdown",
   "metadata": {},
   "source": [
    "#### 4. 첫째 줄에는 별 N개, 둘째 줄에는 별 N-1개, ..., N번째 줄에는 별 1개를 출력하시오. (hint : for문)"
   ]
  },
  {
   "cell_type": "raw",
   "metadata": {},
   "source": [
    "< 예시 : N이 5일 때 >\n",
    "*\n",
    "**\n",
    "***\n",
    "****\n",
    "*****"
   ]
  },
  {
   "cell_type": "code",
   "execution_count": 19,
   "metadata": {},
   "outputs": [
    {
     "name": "stdout",
     "output_type": "stream",
     "text": [
      "줄바꿈 없이 출력하고 싶어요.줄바꿈 없이 출력되었어요.\n",
      "줄이 바뀌었네요.\n"
     ]
    }
   ],
   "source": [
    "##### 추가 Hint : 줄바꿈 없이 문자열을 출력하는 방법 #####\n",
    "print(\"줄바꿈 없이 출력하고 싶어요.\", end=\"\")\n",
    "print(\"줄바꿈 없이 출력되었어요.\")\n",
    "print(\"줄이 바뀌었네요.\")"
   ]
  },
  {
   "cell_type": "code",
   "execution_count": 27,
   "metadata": {},
   "outputs": [
    {
     "name": "stdout",
     "output_type": "stream",
     "text": [
      "*\n",
      "**\n",
      "***\n",
      "****\n",
      "*****\n"
     ]
    }
   ],
   "source": [
    "##### Your Code here #####\n",
    "#문제와 예시가 다른 얘기라서 두개 따로 만들었습니다\n",
    "#예시의 경우\n",
    "n = int(input(\"숫자를 입력하세요 : \"))\n",
    "for i in range(1,n+1):\n",
    "    print('*'*i)\n"
   ]
  },
  {
   "cell_type": "code",
   "execution_count": 30,
   "metadata": {},
   "outputs": [
    {
     "name": "stdout",
     "output_type": "stream",
     "text": [
      "숫자를 입력하세요 : 5\n",
      "*****\n",
      "****\n",
      "***\n",
      "**\n",
      "*\n"
     ]
    }
   ],
   "source": [
    "#문제의 경우\n",
    "n = int(input(\"숫자를 입력하세요 : \"))\n",
    "for i in range(1,n+1):\n",
    "    print('*'*(n+1-i))"
   ]
  },
  {
   "cell_type": "markdown",
   "metadata": {},
   "source": [
    "#### 5. sample.txt 파일을 읽고, 숫자 10개를 모두 읽어 총합, 평균값, 최댓값, 최솟값을 각각 구하시오.\n",
    "#### (hint : 숫자를 꼭 int형으로 강제 형변환할 것)"
   ]
  },
  {
   "cell_type": "raw",
   "metadata": {},
   "source": [
    "< sample.txt 파일 내용>\n",
    "35\n",
    "45\n",
    "85\n",
    "90\n",
    "99\n",
    "100\n",
    "40\n",
    "42\n",
    "67\n",
    "77"
   ]
  },
  {
   "cell_type": "code",
   "execution_count": 53,
   "metadata": {
    "scrolled": true
   },
   "outputs": [
    {
     "name": "stdout",
     "output_type": "stream",
     "text": [
      "35\n",
      "45\n",
      "85\n",
      "90\n",
      "99\n",
      "100\n",
      "40\n",
      "42\n",
      "67\n",
      "77\n"
     ]
    }
   ],
   "source": [
    "##### 파일 읽는 방법 #####\n",
    "file = open(\"sample.txt\")\n",
    "lines = file.readlines()\n",
    "for line in lines:\n",
    "    print(int(line))\n",
    "file.close()"
   ]
  },
  {
   "cell_type": "code",
   "execution_count": 60,
   "metadata": {},
   "outputs": [
    {
     "name": "stdout",
     "output_type": "stream",
     "text": [
      "총합: 680\n",
      "평균: 68.0\n",
      "최댓값: 100\n",
      "최솟값: 35\n"
     ]
    }
   ],
   "source": [
    "##### Your Code here #####\n",
    "numbers=[int(i) for i in lines]\n",
    "\n",
    "sum=0\n",
    "for i in numbers:\n",
    "    sum=sum+i\n",
    "print('총합:',sum)\n",
    "\n",
    "average=sum/len(numbers)\n",
    "print('평균:',average)\n",
    "\n",
    "numbers=sorted(numbers)\n",
    "print('최댓값:',numbers[-1])\n",
    "print('최솟값:',numbers[0])"
   ]
  },
  {
   "cell_type": "code",
   "execution_count": null,
   "metadata": {},
   "outputs": [],
   "source": []
  }
 ],
 "metadata": {
  "kernelspec": {
   "display_name": "Python 3",
   "language": "python",
   "name": "python3"
  },
  "language_info": {
   "codemirror_mode": {
    "name": "ipython",
    "version": 3
   },
   "file_extension": ".py",
   "mimetype": "text/x-python",
   "name": "python",
   "nbconvert_exporter": "python",
   "pygments_lexer": "ipython3",
   "version": "3.6.5"
  }
 },
 "nbformat": 4,
 "nbformat_minor": 2
}

{
 "cells": [
  {
   "cell_type": "code",
   "execution_count": 2,
   "metadata": {},
   "outputs": [],
   "source": [
    "from sklearn import datasets\n",
    "from sklearn.linear_model import LinearRegression\n",
    "from sklearn.metrics import r2_score, mean_squared_error\n",
    "import matplotlib.pyplot as plt\n",
    "import pandas as pd\n",
    "\n",
    "# load data\n",
    "boston = datasets.load_boston()\n",
    "\n",
    "X = pd.DataFrame(boston.data, columns=boston.feature_names)\n",
    "y = pd.DataFrame(boston.target, columns=['y'])\n",
    "\n",
    "data = pd.concat([X, y], axis=1)"
   ]
  },
  {
   "cell_type": "markdown",
   "metadata": {},
   "source": [
    "<선형회귀 python 과제>\n",
    "\n",
    "1. boston 데이터에 column 중 하나인 LSTAT와 y의 선형회귀 수행\n",
    "2. 위 회귀분석의 r2 score와 mean_squared_error 출력\n",
    "3. 회귀선과 LSTAT와 y의 산점도를 한 그래프에 시각화\n",
    "4. LSTAT와의 피어슨 상관계수 절대값이 가장 낮은 column 찾기\n",
    "5. 4번에서 찾은 column + LSTAT와 y의 다중회귀 수행\n",
    "6. 위 회귀분석의 r2 score와 mean_squared_error 출력하고, 2번의 결과와 비교"
   ]
  },
  {
   "cell_type": "code",
   "execution_count": 3,
   "metadata": {},
   "outputs": [
    {
     "name": "stdout",
     "output_type": "stream",
     "text": [
      "[[-6.77765364]] [22.53280632]\n"
     ]
    }
   ],
   "source": [
    "#1번문제\n",
    "from sklearn.preprocessing import StandardScaler\n",
    "x_train = data[['LSTAT']] \n",
    "y_train = data[['y']]\n",
    "standard = StandardScaler()\n",
    "x_train1 = standard.fit_transform(x_train)\n",
    "clf = LinearRegression()\n",
    "clf.fit(x_train1,y_train)\n",
    "y_pred = clf.predict(x_train1)\n",
    "coef = clf.coef_\n",
    "intercept = clf.intercept_\n",
    "print(coef, intercept)"
   ]
  },
  {
   "cell_type": "code",
   "execution_count": 4,
   "metadata": {},
   "outputs": [
    {
     "name": "stdout",
     "output_type": "stream",
     "text": [
      "r2_score 0.5441462975864797\n",
      "mean_squared_error 38.48296722989415\n"
     ]
    }
   ],
   "source": [
    "#2번문제\n",
    "print('r2_score',r2_score(y_train,y_pred))\n",
    "print('mean_squared_error',mean_squared_error(y_train,y_pred))"
   ]
  },
  {
   "cell_type": "code",
   "execution_count": 5,
   "metadata": {},
   "outputs": [
    {
     "data": {
      "image/png": "[encoded data removed]",
      "text/plain": [
       "<Figure size 432x288 with 1 Axes>"
      ]
     },
     "metadata": {},
     "output_type": "display_data"
    }
   ],
   "source": [
    "#3번문제\n",
    "plt.plot(x_train1,x_train1*coef+intercept,color = 'black')\n",
    "plt.scatter(x_train1,y_train)\n",
    "plt.show()"
   ]
  },
  {
   "cell_type": "code",
   "execution_count": 6,
   "metadata": {},
   "outputs": [
    {
     "name": "stdout",
     "output_type": "stream",
     "text": [
      "             CRIM        ZN     INDUS      CHAS       NOX        RM       AGE  \\\n",
      "CRIM     1.000000  0.199458  0.404471  0.055295  0.417521  0.219940  0.350784   \n",
      "ZN       0.199458  1.000000  0.533828  0.042697  0.516604  0.311991  0.569537   \n",
      "INDUS    0.404471  0.533828  1.000000  0.062938  0.763651  0.391676  0.644779   \n",
      "CHAS     0.055295  0.042697  0.062938  1.000000  0.091203  0.091251  0.086518   \n",
      "NOX      0.417521  0.516604  0.763651  0.091203  1.000000  0.302188  0.731470   \n",
      "RM       0.219940  0.311991  0.391676  0.091251  0.302188  1.000000  0.240265   \n",
      "AGE      0.350784  0.569537  0.644779  0.086518  0.731470  0.240265  1.000000   \n",
      "DIS      0.377904  0.664408  0.708027  0.099176  0.769230  0.205246  0.747881   \n",
      "RAD      0.622029  0.311948  0.595129  0.007368  0.611441  0.209847  0.456022   \n",
      "TAX      0.579564  0.314563  0.720760  0.035587  0.668023  0.292048  0.506456   \n",
      "PTRATIO  0.288250  0.391679  0.383248  0.121515  0.188933  0.355501  0.261515   \n",
      "B        0.377365  0.175520  0.356977  0.048788  0.380051  0.128069  0.273534   \n",
      "LSTAT    0.452220  0.412995  0.603800  0.053929  0.590879  0.613808  0.602339   \n",
      "y        0.385832  0.360445  0.483725  0.175260  0.427321  0.695360  0.376955   \n",
      "\n",
      "              DIS       RAD       TAX   PTRATIO         B     LSTAT         y  \n",
      "CRIM     0.377904  0.622029  0.579564  0.288250  0.377365  0.452220  0.385832  \n",
      "ZN       0.664408  0.311948  0.314563  0.391679  0.175520  0.412995  0.360445  \n",
      "INDUS    0.708027  0.595129  0.720760  0.383248  0.356977  0.603800  0.483725  \n",
      "CHAS     0.099176  0.007368  0.035587  0.121515  0.048788  0.053929  0.175260  \n",
      "NOX      0.769230  0.611441  0.668023  0.188933  0.380051  0.590879  0.427321  \n",
      "RM       0.205246  0.209847  0.292048  0.355501  0.128069  0.613808  0.695360  \n",
      "AGE      0.747881  0.456022  0.506456  0.261515  0.273534  0.602339  0.376955  \n",
      "DIS      1.000000  0.494588  0.534432  0.232471  0.291512  0.496996  0.249929  \n",
      "RAD      0.494588  1.000000  0.910228  0.464741  0.444413  0.488676  0.381626  \n",
      "TAX      0.534432  0.910228  1.000000  0.460853  0.441808  0.543993  0.468536  \n",
      "PTRATIO  0.232471  0.464741  0.460853  1.000000  0.177383  0.374044  0.507787  \n",
      "B        0.291512  0.444413  0.441808  0.177383  1.000000  0.366087  0.333461  \n",
      "LSTAT    0.496996  0.488676  0.543993  0.374044  0.366087  1.000000  0.737663  \n",
      "y        0.249929  0.381626  0.468536  0.507787  0.333461  0.737663  1.000000  \n"
     ]
    }
   ],
   "source": [
    "#4번문제\n",
    "corr = abs(data.corr(method = 'pearson'))\n",
    "print(corr) \n",
    "#절댓값 가장 낮은 column = chas"
   ]
  },
  {
   "cell_type": "code",
   "execution_count": 7,
   "metadata": {},
   "outputs": [
    {
     "name": "stdout",
     "output_type": "stream",
     "text": [
      "[[-6.71032781  1.24840926]] [22.53280632]\n"
     ]
    }
   ],
   "source": [
    "#5번문제\n",
    "x_train_abmin = data[['LSTAT','CHAS']]\n",
    "x_train_abmin1 = standard.fit_transform(x_train_abmin)\n",
    "clf.fit(x_train_abmin1,y_train)\n",
    "y_pred = clf.predict(x_train_abmin1)\n",
    "coef = clf.coef_\n",
    "intercept = clf.intercept_\n",
    "print(coef, intercept)"
   ]
  },
  {
   "cell_type": "code",
   "execution_count": 8,
   "metadata": {},
   "outputs": [
    {
     "name": "stdout",
     "output_type": "stream",
     "text": [
      "r2_score 0.5625542706341022\n",
      "mean_squared_error 36.92897431547921\n"
     ]
    }
   ],
   "source": [
    "#6번문제\n",
    "print('r2_score',r2_score(y_train,y_pred))\n",
    "print('mean_squared_error',mean_squared_error(y_train,y_pred))\n",
    "#2번 비교: r2_score 증가, mean_squared_error 감소"
   ]
  },
  {
   "cell_type": "code",
   "execution_count": null,
   "metadata": {},
   "outputs": [],
   "source": []
  }
 ],
 "metadata": {
  "kernelspec": {
   "display_name": "Python 3",
   "language": "python",
   "name": "python3"
  },
  "language_info": {
   "codemirror_mode": {
    "name": "ipython",
    "version": 3
   },
   "file_extension": ".py",
   "mimetype": "text/x-python",
   "name": "python",
   "nbconvert_exporter": "python",
   "pygments_lexer": "ipython3",
   "version": "3.6.5"
  }
 },
 "nbformat": 4,
 "nbformat_minor": 2
}

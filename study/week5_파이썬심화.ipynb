{
 "cells": [
  {
   "cell_type": "code",
   "execution_count": 1,
   "metadata": {},
   "outputs": [
    {
     "name": "stdout",
     "output_type": "stream",
     "text": [
      "단어를 입력하세요: level\n",
      "True\n"
     ]
    }
   ],
   "source": [
    "#회문 판별\n",
    "\n",
    "word = input('단어를 입력하세요: ')\n",
    " \n",
    "is_palindrome = True                 # 회문 판별값을 저장할 변수, 초깃값은 True\n",
    "for i in range(len(word) // 2):      # 0부터 문자열 길이의 절반만큼 반복 #버림 나눗셈\n",
    "    if word[i] != word[-1 - i]:      # 왼쪽 문자와 오른쪽 문자를 비교하여 문자가 다르면\n",
    "        is_palindrome = False        # 회문이 아님\n",
    "        break\n",
    " \n",
    "print(is_palindrome) "
   ]
  },
  {
   "cell_type": "code",
   "execution_count": 2,
   "metadata": {},
   "outputs": [
    {
     "name": "stdout",
     "output_type": "stream",
     "text": [
      "He\n",
      "el\n",
      "ll\n",
      "lo\n"
     ]
    }
   ],
   "source": [
    "#2 GRAM_문자단위\n",
    "\n",
    "text = 'Hello'\n",
    " \n",
    "for i in range(len(text) - 1):             # 2-gram이므로 문자열의 끝에서 한 글자 앞까지만 반복함\n",
    "    print(text[i], text[i + 1], sep='')    # 현재 문자와 그다음 문자 출력"
   ]
  },
  {
   "cell_type": "code",
   "execution_count": 7,
   "metadata": {},
   "outputs": [
    {
     "name": "stdout",
     "output_type": "stream",
     "text": [
      "this is\n",
      "is python\n",
      "python script\n"
     ]
    }
   ],
   "source": [
    "#2 GRAM_단어단위\n",
    "\n",
    "text  =  'this is python script'\n",
    "words = text.split()                 # 공백을 기준으로 문자열을 분리하여 리스트로 만듦\n",
    " \n",
    "for i in range(len(words) - 1):    # 2-gram이므로 리스트의 마지막에서 요소 한 개 앞까지만 반복함\n",
    "    print(words[i], words[i + 1])  # 현재 문자열과 그다음 문자열 출력"
   ]
  },
  {
   "cell_type": "code",
   "execution_count": 12,
   "metadata": {},
   "outputs": [
    {
     "name": "stdout",
     "output_type": "stream",
     "text": [
      "3\n",
      "Python is a programming language that lets you work quickly\n",
      "Python is a \n",
      "is a programming \n",
      "a programming language \n",
      "programming language that \n",
      "language that lets \n",
      "that lets you \n",
      "lets you work \n",
      "you work quickly \n"
     ]
    }
   ],
   "source": [
    "#연습문제\n",
    "\n",
    "n = int(input())\n",
    "text = input()\n",
    "words = text.split()\n",
    "if len(words)<n:\n",
    "    print('wrong')\n",
    "else:\n",
    "    for i in range(len(words)-(n-1)):\n",
    "        for j in  range(n):\n",
    "            print(words[i+j], end=' ')\n",
    "        print()"
   ]
  },
  {
   "cell_type": "code",
   "execution_count": 44,
   "metadata": {},
   "outputs": [
    {
     "name": "stdout",
     "output_type": "stream",
     "text": [
      "apache\n",
      "decal\n",
      "did\n",
      "neep\n",
      "noon\n",
      "refer\n",
      "river\n"
     ]
    }
   ],
   "source": [
    "#심사문제\n",
    "file=open('C:/Users/USER/Desktop/words.txt','r')\n",
    "words=file.read()\n",
    "print(words)"
   ]
  },
  {
   "cell_type": "code",
   "execution_count": 45,
   "metadata": {},
   "outputs": [
    {
     "name": "stdout",
     "output_type": "stream",
     "text": [
      "['apache', 'decal', 'did', 'neep', 'noon', 'refer', 'river']\n"
     ]
    }
   ],
   "source": [
    "words=words.split('\\n')\n",
    "print(words)"
   ]
  },
  {
   "cell_type": "code",
   "execution_count": 52,
   "metadata": {},
   "outputs": [
    {
     "name": "stdout",
     "output_type": "stream",
     "text": [
      "did\n",
      "noon\n",
      "noon\n",
      "refer\n",
      "refer\n",
      "river\n"
     ]
    }
   ],
   "source": [
    "for word in words:\n",
    "    for i in range(len(word)//2):\n",
    "        is_palindrom=True\n",
    "        if word[i]!=word[-1-i]:\n",
    "            is_palindrom = False\n",
    "            break\n",
    "        if is_palindrom == True:\n",
    "            print(word)"
   ]
  },
  {
   "cell_type": "code",
   "execution_count": 54,
   "metadata": {},
   "outputs": [
    {
     "name": "stdout",
     "output_type": "stream",
     "text": [
      "did\n",
      "noon\n",
      "refer\n"
     ]
    }
   ],
   "source": [
    "with open('C:/Users/USER/Desktop/words.txt','r') as file:\n",
    "    words = file.readlines()\n",
    "    for word in words:\n",
    "        word = word.strip('\\n')\n",
    "        is_palindrom = True\n",
    "        for i in range(len(word)//2):\n",
    "            if word[i] != word[-1 -i]:\n",
    "                is_palindrom = False\n",
    "                break\n",
    "        if is_palindrom ==True:\n",
    "            print(word)"
   ]
  },
  {
   "cell_type": "code",
   "execution_count": null,
   "metadata": {},
   "outputs": [],
   "source": []
  }
 ],
 "metadata": {
  "kernelspec": {
   "display_name": "Python 3",
   "language": "python",
   "name": "python3"
  },
  "language_info": {
   "codemirror_mode": {
    "name": "ipython",
    "version": 3
   },
   "file_extension": ".py",
   "mimetype": "text/x-python",
   "name": "python",
   "nbconvert_exporter": "python",
   "pygments_lexer": "ipython3",
   "version": "3.6.5"
  }
 },
 "nbformat": 4,
 "nbformat_minor": 2
}

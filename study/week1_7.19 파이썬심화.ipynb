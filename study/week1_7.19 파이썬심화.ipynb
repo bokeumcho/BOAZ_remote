{
 "cells": [
  {
   "cell_type": "code",
   "execution_count": 6,
   "metadata": {},
   "outputs": [
    {
     "name": "stdout",
     "output_type": "stream",
     "text": [
      "4\n",
      "5\n",
      "9\n",
      "-1\n",
      "20\n",
      "0.8\n"
     ]
    }
   ],
   "source": [
    "#공학용 계산기 만들기\n",
    "class cal:\n",
    "    def __init__(self):\n",
    "        self.x1=int(input())\n",
    "        self.x2=int(input())\n",
    "        \n",
    "    def plus(self):\n",
    "        return self.x1+self.x2\n",
    "    def minus(self):\n",
    "        return self.x1-self.x2\n",
    "    def multi(self):\n",
    "        return self.x1*self.x2\n",
    "    def div(self):\n",
    "        try:\n",
    "            return self.x1/self.x2\n",
    "        except ZeroDivisionError:\n",
    "            print('0으로는 나눌 수 없습니다.')\n",
    "            return x1\n",
    "        \n",
    "cal=cal() #def!\n",
    "\n",
    "print(cal.plus())\n",
    "print(cal.minus())\n",
    "print(cal.multi())\n",
    "print(cal.div())"
   ]
  },
  {
   "cell_type": "code",
   "execution_count": 19,
   "metadata": {},
   "outputs": [
    {
     "name": "stdout",
     "output_type": "stream",
     "text": [
      "9\n",
      "16\n",
      "18\n",
      "14\n",
      "28\n",
      "0으로는 나눌 수 없습니다.\n",
      "28\n",
      "36\n"
     ]
    }
   ],
   "source": [
    "#예시 답안\n",
    "class calcul:\n",
    "    def __init__(self):\n",
    "        self.initval = 0\n",
    "\n",
    "    def input(self):\n",
    "        self.initval = int(input())\n",
    "        return self.initval\n",
    "\n",
    "    def sum(self,sum_num):\n",
    "        self.initval = self.initval+sum_num\n",
    "        return self.initval\n",
    "\n",
    "    def sub(self,sub_num):\n",
    "        self.initval = self.initval - sub_num\n",
    "        return self.initval\n",
    "\n",
    "    def mul(self,mul_num):\n",
    "        self.initval = self.initval * mul_num\n",
    "        return self.initval\n",
    "\n",
    "    def div(self,div_num):\n",
    "        try:\n",
    "            self.initval = self.initval / div_num\n",
    "            return self.initval\n",
    "        except ZeroDivisionError:\n",
    "            print('0으로는 나눌 수 없습니다.')\n",
    "            return self.initval\n",
    "    # def \n",
    "test = calcul()\n",
    "\n",
    "test.input()\n",
    "print(test.sum(7))\n",
    "print(test.sum(2))\n",
    "print(test.sub(4))\n",
    "print(test.mul(2))\n",
    "print(test.div(0))\n",
    "print(test.sum(8))"
   ]
  },
  {
   "cell_type": "code",
   "execution_count": null,
   "metadata": {},
   "outputs": [],
   "source": [
    "#class 경로 바꾸기\n",
    "import os\n",
    "os.chdir('/Users/joono/GoogleDrive/SKKU/BOAZ/11기_study')\n",
    "from day1 import calcul\n",
    "\n",
    "test = calcul()\n",
    "\n",
    "test.input()\n",
    "print(test.sum(7))\n",
    "print(test.sum(2))\n",
    "print(test.sub(4))\n",
    "print(test.mul(2))\n",
    "print(test.div(0))\n",
    "print(test.sum(8))\n",
    "\n",
    "test2 = calcul()\n",
    "\n",
    "test2.input()\n",
    "print(test2.sum(7))\n",
    "print(test2.sum(2))\n",
    "print(test2.sub(4))\n",
    "print(test2.mul(2))\n",
    "print(test2.div(0))\n",
    "print(test2.sum(8))"
   ]
  }
 ],
 "metadata": {
  "kernelspec": {
   "display_name": "Python 3",
   "language": "python",
   "name": "python3"
  },
  "language_info": {
   "codemirror_mode": {
    "name": "ipython",
    "version": 3
   },
   "file_extension": ".py",
   "mimetype": "text/x-python",
   "name": "python",
   "nbconvert_exporter": "python",
   "pygments_lexer": "ipython3",
   "version": "3.6.5"
  }
 },
 "nbformat": 4,
 "nbformat_minor": 2
}
